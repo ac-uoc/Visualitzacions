{
 "cells": [
  {
   "cell_type": "code",
   "execution_count": 8,
   "id": "0487640c",
   "metadata": {},
   "outputs": [],
   "source": [
    "import pandas as pd\n",
    "import plotly.graph_objects as gp\n",
    "import numpy as np\n",
    "import matplotlib.pyplot as plt\n",
    "import seaborn as sns"
   ]
  },
  {
   "cell_type": "code",
   "execution_count": 9,
   "id": "edd6beac",
   "metadata": {},
   "outputs": [
    {
     "data": {
      "text/html": [
       "<div>\n",
       "<style scoped>\n",
       "    .dataframe tbody tr th:only-of-type {\n",
       "        vertical-align: middle;\n",
       "    }\n",
       "\n",
       "    .dataframe tbody tr th {\n",
       "        vertical-align: top;\n",
       "    }\n",
       "\n",
       "    .dataframe thead th {\n",
       "        text-align: right;\n",
       "    }\n",
       "</style>\n",
       "<table border=\"1\" class=\"dataframe\">\n",
       "  <thead>\n",
       "    <tr style=\"text-align: right;\">\n",
       "      <th></th>\n",
       "      <th>Unnamed: 0</th>\n",
       "      <th>Name</th>\n",
       "      <th>Age</th>\n",
       "      <th>Boarded</th>\n",
       "      <th>Position</th>\n",
       "      <th>Lifeboat</th>\n",
       "      <th>Body</th>\n",
       "      <th>Sex</th>\n",
       "      <th>Class</th>\n",
       "      <th>Group</th>\n",
       "      <th>Survived</th>\n",
       "      <th>ID</th>\n",
       "      <th>Adult</th>\n",
       "    </tr>\n",
       "  </thead>\n",
       "  <tbody>\n",
       "    <tr>\n",
       "      <th>0</th>\n",
       "      <td>1</td>\n",
       "      <td>Mr. George Swane</td>\n",
       "      <td>19.0</td>\n",
       "      <td>S</td>\n",
       "      <td>chauffeur</td>\n",
       "      <td>NaN</td>\n",
       "      <td>294MB</td>\n",
       "      <td>m</td>\n",
       "      <td>2</td>\n",
       "      <td>1classServ</td>\n",
       "      <td>False</td>\n",
       "      <td>1</td>\n",
       "      <td>True</td>\n",
       "    </tr>\n",
       "    <tr>\n",
       "      <th>1</th>\n",
       "      <td>2</td>\n",
       "      <td>Miss Amelia Mary \"Mildred\" Brown</td>\n",
       "      <td>18.0</td>\n",
       "      <td>S</td>\n",
       "      <td>cook</td>\n",
       "      <td>11</td>\n",
       "      <td>NaN</td>\n",
       "      <td>f</td>\n",
       "      <td>2</td>\n",
       "      <td>1classServ</td>\n",
       "      <td>True</td>\n",
       "      <td>2</td>\n",
       "      <td>True</td>\n",
       "    </tr>\n",
       "    <tr>\n",
       "      <th>2</th>\n",
       "      <td>3</td>\n",
       "      <td>Miss Sarah Daniels</td>\n",
       "      <td>33.0</td>\n",
       "      <td>S</td>\n",
       "      <td>maid</td>\n",
       "      <td>8</td>\n",
       "      <td>NaN</td>\n",
       "      <td>f</td>\n",
       "      <td>1</td>\n",
       "      <td>1classServ</td>\n",
       "      <td>True</td>\n",
       "      <td>3</td>\n",
       "      <td>True</td>\n",
       "    </tr>\n",
       "    <tr>\n",
       "      <th>3</th>\n",
       "      <td>4</td>\n",
       "      <td>Miss Alice Catherine Cleaver</td>\n",
       "      <td>22.0</td>\n",
       "      <td>S</td>\n",
       "      <td>nurse</td>\n",
       "      <td>11</td>\n",
       "      <td>NaN</td>\n",
       "      <td>f</td>\n",
       "      <td>1</td>\n",
       "      <td>1classServ</td>\n",
       "      <td>True</td>\n",
       "      <td>4</td>\n",
       "      <td>True</td>\n",
       "    </tr>\n",
       "    <tr>\n",
       "      <th>4</th>\n",
       "      <td>5</td>\n",
       "      <td>Miss Rosalie Bidois</td>\n",
       "      <td>46.0</td>\n",
       "      <td>C</td>\n",
       "      <td>maid</td>\n",
       "      <td>4</td>\n",
       "      <td>NaN</td>\n",
       "      <td>f</td>\n",
       "      <td>1</td>\n",
       "      <td>1classServ</td>\n",
       "      <td>True</td>\n",
       "      <td>5</td>\n",
       "      <td>True</td>\n",
       "    </tr>\n",
       "  </tbody>\n",
       "</table>\n",
       "</div>"
      ],
      "text/plain": [
       "   Unnamed: 0                              Name   Age Boarded   Position  \\\n",
       "0           1                  Mr. George Swane  19.0       S  chauffeur   \n",
       "1           2  Miss Amelia Mary \"Mildred\" Brown  18.0       S       cook   \n",
       "2           3                Miss Sarah Daniels  33.0       S       maid   \n",
       "3           4      Miss Alice Catherine Cleaver  22.0       S      nurse   \n",
       "4           5               Miss Rosalie Bidois  46.0       C       maid   \n",
       "\n",
       "  Lifeboat   Body Sex  Class       Group  Survived  ID  Adult  \n",
       "0      NaN  294MB   m      2  1classServ     False   1   True  \n",
       "1       11    NaN   f      2  1classServ      True   2   True  \n",
       "2        8    NaN   f      1  1classServ      True   3   True  \n",
       "3       11    NaN   f      1  1classServ      True   4   True  \n",
       "4        4    NaN   f      1  1classServ      True   5   True  "
      ]
     },
     "execution_count": 9,
     "metadata": {},
     "output_type": "execute_result"
    }
   ],
   "source": [
    "tit=pd.read_csv(\"allTitanic.csv\")\n",
    "tit.head()"
   ]
  },
  {
   "cell_type": "markdown",
   "id": "86465b61",
   "metadata": {},
   "source": [
    "*Triem representar els salvats del Titanic segon el grup.<br>\n",
    "Llegim les dades de la Wikipedia en dues adreces URL:<br>\n",
    "https://en.wikipedia.org/wiki/Passengers_of_the_Titanic<br>\n",
    "https://en.wikipedia.org/wiki/Crew_of_the_Titanic<br>\n",
    "que hem tractat conjuntament en un treball previ recollit en un repositori d'ac-uoc de Github,<br>\n",
    "recollit al fitxer conjunt allTitanic.csv*"
   ]
  },
  {
   "cell_type": "code",
   "execution_count": 134,
   "id": "dca58913",
   "metadata": {},
   "outputs": [
    {
     "name": "stdout",
     "output_type": "stream",
     "text": [
      "Gent a bord: 2177\n"
     ]
    }
   ],
   "source": [
    "print('Gent a bord:',tit.Name.count())\n",
    "titg=tit.groupby('Group').count()"
   ]
  },
  {
   "cell_type": "markdown",
   "id": "9163a7fc",
   "metadata": {},
   "source": [
    "*La matriu de punts volem que representi el percentatge de cada u dels grups de l'exercici 1 respecte al total*"
   ]
  },
  {
   "cell_type": "code",
   "execution_count": 125,
   "id": "8c4ee4e4",
   "metadata": {},
   "outputs": [],
   "source": [
    "titg['%gent']=100*titg.Name/2177\n",
    "df=titg.sort_values(by='%gent',ascending=False)\n",
    "gent=pd.Series(df['%gent'])\n",
    "gent=round(gent)\n",
    "gent=gent[gent > 0]\n",
    "gent=gent.astype(int)\n",
    "alt = pd.Series(1, index=[\"altres\"])\n",
    "gent=gent.append(alt)"
   ]
  },
  {
   "cell_type": "code",
   "execution_count": 137,
   "id": "33723772",
   "metadata": {},
   "outputs": [
    {
     "name": "stdout",
     "output_type": "stream",
     "text": [
      "Percentatge arrodonit dels grups:\n",
      "\n",
      "3class         33\n",
      "Victualling    18\n",
      "Engineering    15\n",
      "2class         13\n",
      "1c0ser         11\n",
      "restaurant      3\n",
      "Deck            3\n",
      "1classServ      2\n",
      "1c1serv         1\n",
      "altres          1\n",
      "dtype: int64\n"
     ]
    }
   ],
   "source": [
    "print('Percentatge arrodonit dels grups:\\n')\n",
    "print(gent)"
   ]
  },
  {
   "cell_type": "markdown",
   "id": "c7d691de",
   "metadata": {},
   "source": [
    "*Esquema de la matriu: 10x10 punts:*"
   ]
  },
  {
   "cell_type": "code",
   "execution_count": 138,
   "id": "a6b0bd42",
   "metadata": {},
   "outputs": [],
   "source": [
    "xind=np.repeat(np.arange(1,11),10)\n",
    "yind=np.tile(np.arange(1,11),10)\n",
    "farbe=['#0000ff','#c0c0c0','#dc14c3','#ff00ff','#dda0dd','#ff0000','#f000ff','#a0522d','#ffa500','#00ffff']"
   ]
  },
  {
   "cell_type": "code",
   "execution_count": 132,
   "id": "c07f1c08",
   "metadata": {},
   "outputs": [
    {
     "data": {
      "image/png": "[encoded data removed]",
      "text/plain": [
       "<Figure size 432x288 with 1 Axes>"
      ]
     },
     "metadata": {
      "needs_background": "light"
     },
     "output_type": "display_data"
    }
   ],
   "source": [
    "k=0\n",
    "for i in range(len(gent)):\n",
    "        plt.scatter(xind[k:k+gent[i]],yind[k:k+gent[i]],c=farbe[i],s=90)\n",
    "        k=k+gent[i]\n",
    "plt.scatter(xind[99],yind[99],c='#00ffff',s=90)\n",
    "plt.legend(gent.index,bbox_to_anchor=(1.5,1))\n",
    "plt.show()"
   ]
  },
  {
   "cell_type": "code",
   "execution_count": null,
   "id": "458862d2",
   "metadata": {},
   "outputs": [],
   "source": []
  }
 ],
 "metadata": {
  "kernelspec": {
   "display_name": "Python 3",
   "language": "python",
   "name": "python3"
  },
  "language_info": {
   "codemirror_mode": {
    "name": "ipython",
    "version": 3
   },
   "file_extension": ".py",
   "mimetype": "text/x-python",
   "name": "python",
   "nbconvert_exporter": "python",
   "pygments_lexer": "ipython3",
   "version": "3.8.8"
  }
 },
 "nbformat": 4,
 "nbformat_minor": 5
}
